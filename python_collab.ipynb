{
  "nbformat": 4,
  "nbformat_minor": 0,
  "metadata": {
    "colab": {
      "name": "python_collab",
      "version": "0.3.2",
      "provenance": [],
      "collapsed_sections": [],
      "include_colab_link": true
    },
    "kernelspec": {
      "name": "python3",
      "display_name": "Python 3"
    }
  },
  "cells": [
    {
      "cell_type": "markdown",
      "metadata": {
        "id": "view-in-github",
        "colab_type": "text"
      },
      "source": [
        "<a href=\"https://colab.research.google.com/github/SmrithiMenon/Python_sm/blob/master/python_collab.ipynb\" target=\"_parent\"><img src=\"https://colab.research.google.com/assets/colab-badge.svg\" alt=\"Open In Colab\"/></a>"
      ]
    },
    {
      "cell_type": "code",
      "metadata": {
        "id": "h_MZdC9R3PCH",
        "colab_type": "code",
        "colab": {
          "base_uri": "https://localhost:8080/",
          "height": 35
        },
        "outputId": "06504579-b864-49f5-f185-12709ce84c1a"
      },
      "source": [
        "print (\"Hello world\")"
      ],
      "execution_count": 2,
      "outputs": [
        {
          "output_type": "stream",
          "text": [
            "Hello world\n"
          ],
          "name": "stdout"
        }
      ]
    },
    {
      "cell_type": "code",
      "metadata": {
        "id": "84N3rZPG5Jqs",
        "colab_type": "code",
        "colab": {
          "base_uri": "https://localhost:8080/",
          "height": 52
        },
        "outputId": "59ae3b07-219a-4f00-a5e7-5d79e1caadcd"
      },
      "source": [
        "L1 =[2,4,6,8,10]\n",
        "L2=[1,3,5,7,9]\n",
        "print(L1+L2)\n",
        "print(L1*2)\n",
        " \n",
        "\n"
      ],
      "execution_count": 29,
      "outputs": [
        {
          "output_type": "stream",
          "text": [
            "[2, 4, 6, 8, 10, 1, 3, 5, 7, 9]\n",
            "[2, 4, 6, 8, 10, 2, 4, 6, 8, 10]\n"
          ],
          "name": "stdout"
        }
      ]
    },
    {
      "cell_type": "code",
      "metadata": {
        "id": "_8gaIzBo5gEO",
        "colab_type": "code",
        "colab": {
          "base_uri": "https://localhost:8080/",
          "height": 70
        },
        "outputId": "f964886b-5c92-40f9-971e-3bc49ec13d1d"
      },
      "source": [
        "angle =list(range(0,360,30))\n",
        "print(angle)\n",
        "i1 =angle.index(90)\n",
        "print('index of 90:', i1)\n",
        "i2 =angle.index(270)\n",
        "print('index of 270:',i2)"
      ],
      "execution_count": 42,
      "outputs": [
        {
          "output_type": "stream",
          "text": [
            "[0, 30, 60, 90, 120, 150, 180, 210, 240, 270, 300, 330]\n",
            "index of 90: 3\n",
            "index of 270: 9\n"
          ],
          "name": "stdout"
        }
      ]
    },
    {
      "cell_type": "code",
      "metadata": {
        "id": "zbbq5TIICPe6",
        "colab_type": "code",
        "colab": {
          "base_uri": "https://localhost:8080/",
          "height": 70
        },
        "outputId": "e1339d68-b5e2-4363-92b8-72d79d53c972"
      },
      "source": [
        "angle =list(range(0,390,30))\n",
        "print(angle)\n",
        "i1 =angle.index(90)\n",
        "print('index of 90:', i1)\n",
        "i2 =angle.index(270)\n",
        "print('index of 270:',i2)"
      ],
      "execution_count": 47,
      "outputs": [
        {
          "output_type": "stream",
          "text": [
            "[0, 30, 60, 90, 120, 150, 180, 210, 240, 270, 300, 330, 360]\n",
            "index of 90: 3\n",
            "index of 270: 9\n"
          ],
          "name": "stdout"
        }
      ]
    },
    {
      "cell_type": "code",
      "metadata": {
        "id": "KOpPgus2Ewb5",
        "colab_type": "code",
        "colab": {
          "base_uri": "https://localhost:8080/",
          "height": 106
        },
        "outputId": "14a5c9ae-f0c3-4fef-c3c6-e639850e1125"
      },
      "source": [
        "angle =list(range(0,390,30))\n",
        "print(angle)\n",
        "length = len(angle)\n",
        "i1 =angle.index(90)\n",
        "print('length of the list is:',length)\n",
        "i1_rev=length-i1-1\n",
        "print('reverse index of 90 is',i1_rev)\n",
        "i2 =angle.index(270)\n",
        "i2_rev=length-i2-1\n",
        "print('reverse index of 270 is',i2_rev)\n",
        "Sub_set =angle[i1_rev:i2_rev-1:-1]\n",
        "print(Sub_set)\n",
        "\n"
      ],
      "execution_count": 77,
      "outputs": [
        {
          "output_type": "stream",
          "text": [
            "[0, 30, 60, 90, 120, 150, 180, 210, 240, 270, 300, 330, 360]\n",
            "length of the list is: 13\n",
            "reverse index of 90 is 9\n",
            "reverse index of 270 is 3\n",
            "[270, 240, 210, 180, 150, 120, 90]\n"
          ],
          "name": "stdout"
        }
      ]
    },
    {
      "cell_type": "code",
      "metadata": {
        "id": "eDnkqvsDEGLq",
        "colab_type": "code",
        "colab": {
          "base_uri": "https://localhost:8080/",
          "height": 88
        },
        "outputId": "7da2067a-43bb-448f-b363-0108968037e9"
      },
      "source": [
        "L1 = [2,4,6,8,10]\n",
        "\n",
        "#L2= L1.copy()\n",
        "L2 = L1[:]\n",
        "\n",
        "print(L1)\n",
        "print(L2)\n",
        "\n",
        "L2.remove(6)\n",
        "#del(L2[3])\n",
        "print(L2)\n",
        "print(L1)\n",
        "\n",
        "\n"
      ],
      "execution_count": 94,
      "outputs": [
        {
          "output_type": "stream",
          "text": [
            "[2, 4, 6, 8, 10]\n",
            "[2, 4, 6, 8, 10]\n",
            "[2, 4, 8, 10]\n",
            "[2, 4, 6, 8, 10]\n"
          ],
          "name": "stdout"
        }
      ]
    },
    {
      "cell_type": "code",
      "metadata": {
        "id": "NGQQcgyunVRU",
        "colab_type": "code",
        "colab": {}
      },
      "source": [
        "import numpy as np\n",
        "import tensorflow as tf\n"
      ],
      "execution_count": 0,
      "outputs": []
    },
    {
      "cell_type": "code",
      "metadata": {
        "id": "f5UD8hiJeMNy",
        "colab_type": "code",
        "colab": {
          "base_uri": "https://localhost:8080/",
          "height": 88
        },
        "outputId": "b3b0dfef-9ab4-4602-e3fa-dbbb1b1c5a52"
      },
      "source": [
        "L1 = [2,4,6,8,10]\n",
        "\n",
        "L2= L1\n",
        "\n",
        "print(L1)\n",
        "print(L2)\n",
        "\n",
        "L2.remove(6)\n",
        "print(L2)\n",
        "print(L1)"
      ],
      "execution_count": 91,
      "outputs": [
        {
          "output_type": "stream",
          "text": [
            "[2, 4, 6, 8, 10]\n",
            "[2, 4, 6, 8, 10]\n",
            "[2, 4, 8, 10]\n",
            "[2, 4, 8, 10]\n"
          ],
          "name": "stdout"
        }
      ]
    },
    {
      "cell_type": "code",
      "metadata": {
        "id": "KJV8xxyug49F",
        "colab_type": "code",
        "colab": {
          "base_uri": "https://localhost:8080/",
          "height": 70
        },
        "outputId": "0b08d299-636f-44b2-ea76-56d1d5394aff"
      },
      "source": [
        "Eg_tuple = (\"Name\",\"class\",\"number\")\n",
        "print(Eg_tuple)\n",
        "Eg_tuple= Eg_tuple + (40,) \n",
        "print(Eg_tuple)\n",
        "print(type(Eg_tuple))"
      ],
      "execution_count": 112,
      "outputs": [
        {
          "output_type": "stream",
          "text": [
            "('Name', 'class', 'number')\n",
            "('Name', 'class', 'number', 40)\n",
            "<class 'tuple'>\n"
          ],
          "name": "stdout"
        }
      ]
    },
    {
      "cell_type": "code",
      "metadata": {
        "id": "TRnstSOjpdy9",
        "colab_type": "code",
        "colab": {
          "base_uri": "https://localhost:8080/",
          "height": 90
        },
        "outputId": "dcb6ab02-17ab-4413-930d-18a34c0835d0"
      },
      "source": [
        "statedict =\t{'Andhara Pradesh':[49506799,'Hyderabad',False],\n",
        "            'Kerala':[23456789,'TRIVANDRUM',False],\n",
        "            'Uttar Pradesh' :[23456787,'Bareilly', True]}\n",
        "print(statedict)\n",
        "\n",
        "print(statedict[\"Kerala\"])\n",
        "\n",
        "statedict['Bihar']=[12345678,'Patna',False]\n",
        "\n",
        "print(statedict)\n",
        "\n"
      ],
      "execution_count": 123,
      "outputs": [
        {
          "output_type": "stream",
          "text": [
            "{'Andhara Pradesh': [49506799, 'Hyderabad', False], 'Kerala': [23456789, 'TRIVANDRUM', False], 'Uttar Pradesh': [23456787, 'Bareilly', True]}\n",
            "[23456789, 'TRIVANDRUM', False]\n",
            "{'Andhara Pradesh': [49506799, 'Hyderabad', False], 'Kerala': [23456789, 'TRIVANDRUM', False], 'Uttar Pradesh': [23456787, 'Bareilly', True], 'Bihar': [12345678, 'Patna', False]}\n"
          ],
          "name": "stdout"
        }
      ]
    },
    {
      "cell_type": "code",
      "metadata": {
        "id": "b2WutOMI9YEQ",
        "colab_type": "code",
        "colab": {}
      },
      "source": [
        "def circumference(r):\n",
        "  cir =2*3.14*r\n",
        "  return(cir)\n"
      ],
      "execution_count": 0,
      "outputs": []
    },
    {
      "cell_type": "code",
      "metadata": {
        "id": "dcGkWoXQ988o",
        "colab_type": "code",
        "colab": {}
      },
      "source": [
        "import numpy as np\n",
        "cir1=circumference(5)\n",
        "print(cir1)\n"
      ],
      "execution_count": 0,
      "outputs": []
    },
    {
      "cell_type": "code",
      "metadata": {
        "id": "vyR1enh0-jHA",
        "colab_type": "code",
        "colab": {}
      },
      "source": [
        "def deg_rad(angle):\n",
        " rad =angle/180\n",
        " return(rad)"
      ],
      "execution_count": 0,
      "outputs": []
    },
    {
      "cell_type": "code",
      "metadata": {
        "id": "_U_T_iC8_N4r",
        "colab_type": "code",
        "colab": {
          "base_uri": "https://localhost:8080/",
          "height": 35
        },
        "outputId": "70d4dcaf-29fb-440d-898d-9a16e181990c"
      },
      "source": [
        "rad=deg_rad(360)\n",
        "print(rad)"
      ],
      "execution_count": 140,
      "outputs": [
        {
          "output_type": "stream",
          "text": [
            "2.0\n"
          ],
          "name": "stdout"
        }
      ]
    },
    {
      "cell_type": "code",
      "metadata": {
        "id": "hk976H25_vRj",
        "colab_type": "code",
        "colab": {
          "base_uri": "https://localhost:8080/",
          "height": 35
        },
        "outputId": "a0fc0036-6b10-4346-fd1a-2b5f53ae8c53"
      },
      "source": [
        "deg_Rad_inline=lambda angle,rotate: angle/360*22/7+rotate\n",
        "deg_Rad_inline(30,deg_rad(90))"
      ],
      "execution_count": 146,
      "outputs": [
        {
          "output_type": "execute_result",
          "data": {
            "text/plain": [
              "0.7619047619047619"
            ]
          },
          "metadata": {
            "tags": []
          },
          "execution_count": 146
        }
      ]
    },
    {
      "cell_type": "code",
      "metadata": {
        "id": "CPM30bELAin6",
        "colab_type": "code",
        "colab": {}
      },
      "source": [
        ""
      ],
      "execution_count": 0,
      "outputs": []
    }
  ]
}